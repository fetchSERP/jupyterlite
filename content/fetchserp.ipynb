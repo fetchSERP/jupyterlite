{
  "nbformat": 4,
  "nbformat_minor": 0,
  "metadata": {
    "colab": {
      "provenance": []
    },
    "kernelspec": {
      "name": "python3",
      "display_name": "Python 3"
    },
    "language_info": {
      "name": "python"
    }
  },
  "cells": [
    {
      "cell_type": "code",
      "execution_count": 2,
      "metadata": {
        "id": "ZAnxEIPQuUGJ"
      },
      "outputs": [],
      "source": [
        "fetchserp_api_key = \"\""
      ]
    },
    {
      "cell_type": "code",
      "source": [
        "import requests\n",
        "\n",
        "url = \"https://www.fetchserp.com/api/v1/serp\"\n",
        "params = {\n",
        "    \"search_engine\": \"google\",\n",
        "    \"country\": \"us\",\n",
        "    \"pages_number\": 1,\n",
        "    \"query\": \"serp api\"\n",
        "}\n",
        "headers = {\n",
        "    \"accept\": \"application/json\",\n",
        "    \"authorization\": \"Bearer \" + fetchserp_api_key\n",
        "}\n",
        "\n",
        "response = requests.get(url, params=params, headers=headers)\n",
        "print(response.json())\n"
      ],
      "metadata": {
        "colab": {
          "base_uri": "https://localhost:8080/"
        },
        "id": "tCFn_hO4vbBO",
        "outputId": "8dec7bc6-9f51-4a05-d90d-0f0369cab424"
      },
      "execution_count": 3,
      "outputs": [
        {
          "output_type": "stream",
          "name": "stdout",
          "text": [
            "{'data': {'query': 'serp api', 'search_engine': 'google', 'country': 'us', 'results_count': 10, 'results': [{'site_name': None, 'url': 'N/A', 'title': 'N/A', 'description': 'SerpApi, LLC (Software company in Austin, Texas)', 'ranking': 1}, {'site_name': 'serpapi.com', 'url': 'https://serpapi.com/', 'title': 'SerpApi: Google Search API', 'description': 'SerpApi is a real-time API to access Google search results. We handle proxies, solve captchas, and parse all rich structured data for you.', 'ranking': 2}, {'site_name': 'brightdata.com › products › serp-api', 'url': 'https://brightdata.com/products/serp-api', 'title': 'SERP API - SERP Scraper API - Free Trial - Bright Data', 'description': 'SERP API lets you easily scrape SERPs from Google, Duckduckgo, Bing, Yandex, Baidu. Get real-time structured SERP data. Only pay for successful requests.', 'ranking': 3}, {'site_name': 'www.searchapi.io', 'url': 'https://www.searchapi.io/', 'title': 'Google Search API for real-time SERP scraping', 'description': 'Real-time SERP API for easy SERP scraping. Pay only for successful searches. Precise coordinate-level geo-targetting. 99.9% success rate.', 'ranking': 4}, {'site_name': 'scrapfly.io › blog › posts › google-serp-api-and-alternatives', 'url': 'https://scrapfly.io/blog/posts/google-serp-api-and-alternatives', 'title': 'Official Google SERP API? And Alternatives - Scrapfly', 'description': 'Feb 26, 2025', 'ranking': 5}, {'site_name': 'github.com › serpapi › google-search-results-python', 'url': 'https://github.com/serpapi/google-search-results-python', 'title': 'serpapi/google-search-results-python - GitHub', 'description': 'This Python package is meant to scrape and parse search results from Google, Bing, Baidu, Yandex, Yahoo, Home Depot, eBay and more, using SerpApi.', 'ranking': 6}, {'site_name': 'oxylabs.io › Products › Scraper APIs', 'url': 'https://oxylabs.io/products/scraper-api/serp', 'title': 'SERP Scraper API - Free Trial - Oxylabs', 'description': 'SERP Scraper API is a premium web scraping platform that enables real-time data extraction from top search engines, supporting tasks like SEO analysis, market\\xa0...', 'ranking': 7}, {'site_name': 'hasdata.com › apis › google-serp-api', 'url': 'https://hasdata.com/apis/google-serp-api', 'title': 'Google SERP API - HasData', 'description': 'Get parsed JSON Google SERP data with a single API call. Receive real-time, accurate results for any query without proxies, CAPTCHAs, or manual maintenance.', 'ranking': 8}, {'site_name': 'www.scrapingdog.com › blog › best-serp-apis', 'url': 'https://www.scrapingdog.com/blog/best-serp-apis/', 'title': '10 Best Google SERP APIs in 2025 to Extract Data From Search ...', 'description': 'Mar 4, 2025', 'ranking': 9}, {'site_name': 'github.com › serpapi', 'url': 'https://github.com/serpapi', 'title': 'SerpApi - GitHub', 'description': 'API to get search engine results with ease. SerpApi has 74 repositories available. Follow their code on GitHub.', 'ranking': 10}]}}\n"
          ]
        }
      ]
    }
  ]
}